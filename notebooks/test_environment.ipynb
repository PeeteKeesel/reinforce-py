{
 "cells": [
  {
   "cell_type": "code",
   "execution_count": 1,
   "metadata": {},
   "outputs": [
    {
     "name": "stdout",
     "output_type": "stream",
     "text": [
      "Episode: 0\n",
      "    Successfully finished after 483 steps. Sum(R): -14\n",
      "Episode: 1\n",
      "    Successfully finished after 188 steps. Sum(R): 0\n",
      "Episode: 2\n",
      "    Successfully finished after 162 steps. Sum(R): -2\n",
      "Episode: 3\n",
      "    Successfully finished after 797 steps. Sum(R): -12\n",
      "Episode: 4\n",
      "    Successfully finished after 96 steps. Sum(R): -11\n",
      "Episode: 5\n",
      "    Successfully finished after 318 steps. Sum(R): -3\n",
      "Episode: 6\n",
      "    Successfully finished after 94 steps. Sum(R): -3\n",
      "Episode: 7\n",
      "    Successfully finished after 610 steps. Sum(R): -13\n",
      "Episode: 8\n",
      "    Successfully finished after 301 steps. Sum(R): 0\n",
      "Episode: 9\n",
      "    Max num of timesteps 1000 reached. Sum(R): -47\n"
     ]
    }
   ],
   "source": [
    "!python ../main.py --verbose=0 --episodes=10"
   ]
  },
  {
   "cell_type": "code",
   "execution_count": null,
   "metadata": {},
   "outputs": [],
   "source": []
  }
 ],
 "metadata": {
  "kernelspec": {
   "display_name": "reinforce-py",
   "language": "python",
   "name": "python3"
  },
  "language_info": {
   "codemirror_mode": {
    "name": "ipython",
    "version": 3
   },
   "file_extension": ".py",
   "mimetype": "text/x-python",
   "name": "python",
   "nbconvert_exporter": "python",
   "pygments_lexer": "ipython3",
   "version": "3.11.7"
  }
 },
 "nbformat": 4,
 "nbformat_minor": 2
}
